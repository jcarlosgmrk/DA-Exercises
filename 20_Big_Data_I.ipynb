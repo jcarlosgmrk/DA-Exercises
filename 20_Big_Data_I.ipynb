{
 "cells": [
  {
   "cell_type": "code",
   "execution_count": 1,
   "metadata": {},
   "outputs": [],
   "source": [
    "from pyspark.sql import SparkSession"
   ]
  },
  {
   "cell_type": "code",
   "execution_count": 2,
   "metadata": {},
   "outputs": [],
   "source": [
    "# Configuración de plataforma Spark\n",
    "spark = SparkSession\\\n",
    "    .builder\\\n",
    "    .appName(\"PythonPi\")\\\n",
    "    .getOrCreate()"
   ]
  },
  {
   "cell_type": "code",
   "execution_count": 3,
   "metadata": {},
   "outputs": [],
   "source": [
    "# Importación de datos de Housing a una estructura Spark\n",
    "path_archivo = r'C:\\Users\\Bodok\\Downloads\\EBAC curso\\Modulo 49 - Big Data I/Housing.csv'\n",
    "\n",
    "df = spark.read.csv(path_archivo)"
   ]
  },
  {
   "cell_type": "code",
   "execution_count": 5,
   "metadata": {},
   "outputs": [],
   "source": [
    "df = spark.read.csv(path_archivo, header=True)"
   ]
  },
  {
   "cell_type": "code",
   "execution_count": 8,
   "metadata": {},
   "outputs": [
    {
     "name": "stdout",
     "output_type": "stream",
     "text": [
      "+----------+---------------+---------+--------+---------+-----------+--------+------+----------+----+---------+-----+----------+-------------+--------+------------+-------+-------+--------+-------------+----------+\n",
      "|        id|           date|    price|bedrooms|bathrooms|sqft_living|sqft_lot|floors|waterfront|view|condition|grade|sqft_above|sqft_basement|yr_built|yr_renovated|zipcode|    lat|    long|sqft_living15|sqft_lot15|\n",
      "+----------+---------------+---------+--------+---------+-----------+--------+------+----------+----+---------+-----+----------+-------------+--------+------------+-------+-------+--------+-------------+----------+\n",
      "|7129300520|20141013T000000| 221900.0|       3|      1.0|       1180|    5650|   1.0|         0|   0|        3|    7|      1180|            0|    1955|           0|  98178|47.5112|-122.257|         1340|      5650|\n",
      "|6414100192|20141209T000000| 538000.0|       3|     2.25|       2570|    7242|   2.0|         0|   0|        3|    7|      2170|          400|    1951|        1991|  98125| 47.721|-122.319|         1690|      7639|\n",
      "|5631500400|20150225T000000| 180000.0|       2|      1.0|        770|   10000|   1.0|         0|   0|        3|    6|       770|            0|    1933|           0|  98028|47.7379|-122.233|         2720|      8062|\n",
      "|2487200875|20141209T000000| 604000.0|       4|      3.0|       1960|    5000|   1.0|         0|   0|        5|    7|      1050|          910|    1965|           0|  98136|47.5208|-122.393|         1360|      5000|\n",
      "|1954400510|20150218T000000| 510000.0|       3|      2.0|       1680|    8080|   1.0|         0|   0|        3|    8|      1680|            0|    1987|           0|  98074|47.6168|-122.045|         1800|      7503|\n",
      "|7237550310|20140512T000000|1225000.0|       4|      4.5|       5420|  101930|   1.0|         0|   0|        3|   11|      3890|         1530|    2001|           0|  98053|47.6561|-122.005|         4760|    101930|\n",
      "|1321400060|20140627T000000| 257500.0|       3|     2.25|       1715|    6819|   2.0|         0|   0|        3|    7|      1715|            0|    1995|           0|  98003|47.3097|-122.327|         2238|      6819|\n",
      "|2008000270|20150115T000000| 291850.0|       3|      1.5|       1060|    9711|   1.0|         0|   0|        3|    7|      1060|            0|    1963|           0|  98198|47.4095|-122.315|         1650|      9711|\n",
      "|2414600126|20150415T000000| 229500.0|       3|      1.0|       1780|    7470|   1.0|         0|   0|        3|    7|      1050|          730|    1960|           0|  98146|47.5123|-122.337|         1780|      8113|\n",
      "|3793500160|20150312T000000| 323000.0|       3|      2.5|       1890|    6560|   2.0|         0|   0|        3|    7|      1890|            0|    2003|           0|  98038|47.3684|-122.031|         2390|      7570|\n",
      "|1736800520|20150403T000000| 662500.0|       3|      2.5|       3560|    9796|   1.0|         0|   0|        3|    8|      NULL|         1700|    1965|           0|  98007|47.6007|-122.145|         2210|      8925|\n",
      "|9212900260|20140527T000000| 468000.0|       2|      1.0|       1160|    6000|   1.0|         0|   0|        4|    7|       860|          300|    1942|           0|  98115|  47.69|-122.292|         1330|      6000|\n",
      "| 114101516|20140528T000000| 310000.0|       3|      1.0|       1430|   19901|   1.5|         0|   0|        4|    7|      1430|            0|    1927|           0|  98028|47.7558|-122.229|         1780|     12697|\n",
      "|6054650070|20141007T000000| 400000.0|       3|     1.75|       1370|    9680|   1.0|         0|   0|        4|    7|      1370|            0|    1977|           0|  98074|47.6127|-122.045|         1370|     10208|\n",
      "|1175000570|20150312T000000| 530000.0|       5|      2.0|       1810|    4850|   1.5|         0|   0|        3|    7|      1810|            0|    1900|           0|  98107|  47.67|-122.394|         1360|      4850|\n",
      "|9297300055|20150124T000000| 650000.0|       4|      3.0|       2950|    5000|   2.0|         0|   3|        3|    9|      1980|          970|    1979|           0|  98126|47.5714|-122.375|         2140|      4000|\n",
      "|1875500060|20140731T000000| 395000.0|       3|      2.0|       1890|   14040|   2.0|         0|   0|        3|    7|      1890|            0|    1994|           0|  98019|47.7277|-121.962|         1890|     14018|\n",
      "|6865200140|20140529T000000| 485000.0|       4|      1.0|       1600|    4300|   1.5|         0|   0|        4|    7|      NULL|            0|    1916|           0|  98103|47.6648|-122.343|         1610|      4300|\n",
      "|  16000397|20141205T000000| 189000.0|       2|      1.0|       1200|    9850|   1.0|         0|   0|        4|    7|      1200|            0|    1921|           0|  98002|47.3089| -122.21|         1060|      5095|\n",
      "|7983200060|20150424T000000| 230000.0|       3|      1.0|       1250|    9774|   1.0|         0|   0|        4|    7|      1250|            0|    1969|           0|  98003|47.3343|-122.306|         1280|      8850|\n",
      "+----------+---------------+---------+--------+---------+-----------+--------+------+----------+----+---------+-----+----------+-------------+--------+------------+-------+-------+--------+-------------+----------+\n",
      "only showing top 20 rows\n",
      "\n"
     ]
    }
   ],
   "source": [
    "df.show()"
   ]
  },
  {
   "cell_type": "code",
   "execution_count": 6,
   "metadata": {},
   "outputs": [
    {
     "name": "stdout",
     "output_type": "stream",
     "text": [
      "root\n",
      " |-- id: string (nullable = true)\n",
      " |-- date: string (nullable = true)\n",
      " |-- price: string (nullable = true)\n",
      " |-- bedrooms: string (nullable = true)\n",
      " |-- bathrooms: string (nullable = true)\n",
      " |-- sqft_living: string (nullable = true)\n",
      " |-- sqft_lot: string (nullable = true)\n",
      " |-- floors: string (nullable = true)\n",
      " |-- waterfront: string (nullable = true)\n",
      " |-- view: string (nullable = true)\n",
      " |-- condition: string (nullable = true)\n",
      " |-- grade: string (nullable = true)\n",
      " |-- sqft_above: string (nullable = true)\n",
      " |-- sqft_basement: string (nullable = true)\n",
      " |-- yr_built: string (nullable = true)\n",
      " |-- yr_renovated: string (nullable = true)\n",
      " |-- zipcode: string (nullable = true)\n",
      " |-- lat: string (nullable = true)\n",
      " |-- long: string (nullable = true)\n",
      " |-- sqft_living15: string (nullable = true)\n",
      " |-- sqft_lot15: string (nullable = true)\n",
      "\n"
     ]
    }
   ],
   "source": [
    "df.printSchema()"
   ]
  },
  {
   "cell_type": "code",
   "execution_count": 7,
   "metadata": {},
   "outputs": [
    {
     "name": "stdout",
     "output_type": "stream",
     "text": [
      "root\n",
      " |-- id: string (nullable = true)\n",
      " |-- date: string (nullable = true)\n",
      " |-- price: float (nullable = true)\n",
      " |-- bedrooms: integer (nullable = true)\n",
      " |-- bathrooms: float (nullable = true)\n",
      " |-- sqft_living: integer (nullable = true)\n",
      " |-- sqft_lot: integer (nullable = true)\n",
      " |-- floors: float (nullable = true)\n",
      " |-- waterfront: integer (nullable = true)\n",
      " |-- view: integer (nullable = true)\n",
      " |-- condition: integer (nullable = true)\n",
      " |-- grade: integer (nullable = true)\n",
      " |-- sqft_above: integer (nullable = true)\n",
      " |-- sqft_basement: integer (nullable = true)\n",
      " |-- yr_built: integer (nullable = true)\n",
      " |-- yr_renovated: integer (nullable = true)\n",
      " |-- zipcode: string (nullable = true)\n",
      " |-- lat: float (nullable = true)\n",
      " |-- long: float (nullable = true)\n",
      " |-- sqft_living15: integer (nullable = true)\n",
      " |-- sqft_lot15: integer (nullable = true)\n",
      "\n"
     ]
    }
   ],
   "source": [
    "from pyspark.sql.types import IntegerType, FloatType, StringType\n",
    "\n",
    "# Cambiar el tipo de datos de las columnas\n",
    "df = df.withColumn(\"price\", df.price.cast(FloatType())) \\\n",
    "       .withColumn(\"bedrooms\", df.bedrooms.cast(IntegerType())) \\\n",
    "       .withColumn(\"bathrooms\", df.bathrooms.cast(FloatType())) \\\n",
    "       .withColumn(\"sqft_living\", df.sqft_living.cast(IntegerType())) \\\n",
    "       .withColumn(\"sqft_lot\", df.sqft_lot.cast(IntegerType())) \\\n",
    "       .withColumn(\"floors\", df.floors.cast(FloatType())) \\\n",
    "       .withColumn(\"waterfront\", df.waterfront.cast(IntegerType())) \\\n",
    "       .withColumn(\"view\", df.view.cast(IntegerType())) \\\n",
    "       .withColumn(\"condition\", df.condition.cast(IntegerType())) \\\n",
    "       .withColumn(\"grade\", df.grade.cast(IntegerType())) \\\n",
    "       .withColumn(\"sqft_above\", df.sqft_above.cast(IntegerType())) \\\n",
    "       .withColumn(\"sqft_basement\", df.sqft_basement.cast(IntegerType())) \\\n",
    "       .withColumn(\"yr_built\", df.yr_built.cast(IntegerType())) \\\n",
    "       .withColumn(\"yr_renovated\", df.yr_renovated.cast(IntegerType())) \\\n",
    "       .withColumn(\"zipcode\", df.zipcode.cast(StringType())) \\\n",
    "       .withColumn(\"lat\", df.lat.cast(FloatType())) \\\n",
    "       .withColumn(\"long\", df.long.cast(FloatType())) \\\n",
    "       .withColumn(\"sqft_living15\", df.sqft_living15.cast(IntegerType())) \\\n",
    "       .withColumn(\"sqft_lot15\", df.sqft_lot15.cast(IntegerType()))\n",
    "\n",
    "df.printSchema()"
   ]
  },
  {
   "cell_type": "code",
   "execution_count": 22,
   "metadata": {},
   "outputs": [
    {
     "name": "stdout",
     "output_type": "stream",
     "text": [
      "+----------+---------------+--------+--------+---------+-----------+--------+------+----------+----+---------+-----+----------+-------------+--------+------------+-------+-------+--------+-------------+----------+\n",
      "|        id|           date|   price|bedrooms|bathrooms|sqft_living|sqft_lot|floors|waterfront|view|condition|grade|sqft_above|sqft_basement|yr_built|yr_renovated|zipcode|    lat|    long|sqft_living15|sqft_lot15|\n",
      "+----------+---------------+--------+--------+---------+-----------+--------+------+----------+----+---------+-----+----------+-------------+--------+------------+-------+-------+--------+-------------+----------+\n",
      "|3353400860|20140717T000000|249900.0|       3|     1.75|       2080|   12522|   1.0|         0|   0|        5|    6|      2080|            0|    1950|           0|  98001| 47.267| -122.25|         1690|     11200|\n",
      "|3354400060|20150501T000000|238000.0|       2|      1.0|       1088|    8453|   1.0|         0|   0|        3|    6|      1088|            0|    1952|        2009|  98001|47.2685|-122.231|         1088|      8016|\n",
      "|3751600030|20140717T000000|100000.0|       2|      1.0|        770|   17334|   1.0|         0|   0|        3|    7|       770|            0|    1978|           0|  98001|47.2997|-122.269|         1480|     17334|\n",
      "|8001400340|20140924T000000|289000.0|       3|      2.0|       1850|    9550|   1.0|         0|   0|        3|    8|      1850|            0|    1988|           0|  98001|47.3225|-122.273|         2250|      9550|\n",
      "|4401150070|20140623T000000|320000.0|       3|      2.5|       2280|    7417|   2.0|         0|   0|        3|    8|      2280|            0|    1998|           0|  98001|47.3557|-122.278|         2370|      6443|\n",
      "|7895500070|20150213T000000|240000.0|       4|      1.0|       1220|    8075|   1.0|         0|   0|        2|    7|       890|          330|    1969|           0|  98001|47.3341|-122.282|         1290|      7800|\n",
      "|1687000270|20140528T000000|267000.0|       3|      2.5|       2495|    4400|   2.0|         0|   0|        3|    8|      2495|            0|    2007|           0|  98001| 47.288|-122.283|         2434|      4400|\n",
      "|8961960160|20141028T000000|480000.0|       4|      2.5|       3230|   16171|   2.0|         0|   3|        3|    9|      2520|          710|    2001|           0|  98001|47.3183|-122.253|         2640|      8517|\n",
      "|3751604974|20141204T000000|350000.0|       2|      1.5|       1320|   73600|   1.0|         0|   0|        3|    7|      1320|            0|    1993|           0|  98001|47.2755|-122.271|         1320|     33600|\n",
      "|4014400292|20150114T000000|465000.0|       3|      2.5|       2714|   17936|   2.0|         0|   0|        3|    9|      2714|            0|    2005|           0|  98001|47.3185|-122.275|         2590|     18386|\n",
      "|2214800270|20140925T000000|355000.0|       4|      2.5|       2770|    7000|   1.0|         0|   0|        4|    7|      1940|          830|    1979|           0|  98001|47.3396|-122.256|         2140|      7684|\n",
      "|3353400435|20140721T000000|230000.0|       3|      2.0|       1450|   11204|   1.0|         0|   0|        3|    7|      1450|            0|    2003|           0|  98001|47.2639|-122.252|         1520|      9518|\n",
      "|1311100520|20150414T000000|250000.0|       4|     2.25|       1730|    8400|   1.0|         0|   0|        3|    7|      1730|            0|    1962|           0|  98001|47.3386|-122.288|         1550|      7920|\n",
      "|7967200060|20140908T000000|243000.0|       3|     1.75|       1450|   12125|   1.0|         0|   0|        4|    7|      1450|            0|    1981|           0|  98001|47.3575| -122.28|         1210|     12125|\n",
      "|5412100550|20141208T000000|355000.0|       4|      3.0|       2590|    7213|   2.0|         0|   0|        3|    8|      2590|            0|    2001|           0|  98001|47.2609|-122.289|         2550|      6800|\n",
      "|5066400483|20141120T000000|249900.0|       3|     1.75|       1380|   14000|   1.0|         0|   0|        4|    5|      1380|            0|    1939|        1957|  98001| 47.294|-122.281|         1490|     18503|\n",
      "|5515600075|20141205T000000|299000.0|       3|      1.0|       1510|  142803|   1.0|         0|   0|        3|    7|      1510|            0|    1974|           0|  98001|47.3192|-122.287|         1330|     46609|\n",
      "|5462100240|20140625T000000|196500.0|       3|      1.0|       1320|    9000|   1.0|         0|   0|        3|    7|      1320|            0|    1966|           0|  98001|47.3461|-122.272|         1320|      9800|\n",
      "|6181430800|20150105T000000|330000.0|       4|      2.5|       3504|    6000|   2.0|         0|   0|        3|    7|      3504|            0|    2006|           0|  98001|47.3012|-122.285|         2790|      5231|\n",
      "|3356406510|20140530T000000|196440.0|       3|      2.0|       1560|    7352|   1.0|         0|   0|        3|    6|      1560|            0|    1992|           0|  98001|47.2804|-122.251|         1120|      7950|\n",
      "+----------+---------------+--------+--------+---------+-----------+--------+------+----------+----+---------+-----+----------+-------------+--------+------------+-------+-------+--------+-------------+----------+\n",
      "only showing top 20 rows\n",
      "\n"
     ]
    }
   ],
   "source": [
    "# Listado completo de columnas ordenado por zipcode\n",
    "import pyspark.sql.functions as F1\n",
    "df.sort(F1.col(\"zipcode\")).show()"
   ]
  },
  {
   "cell_type": "code",
   "execution_count": 18,
   "metadata": {},
   "outputs": [
    {
     "name": "stdout",
     "output_type": "stream",
     "text": [
      "+-------+-----+\n",
      "|zipcode|count|\n",
      "+-------+-----+\n",
      "|  98011|  195|\n",
      "|  98144|  343|\n",
      "|  98014|  124|\n",
      "|  98109|  109|\n",
      "|  98033|  432|\n",
      "|  98008|  283|\n",
      "|  98058|  455|\n",
      "|  98118|  508|\n",
      "|  98023|  499|\n",
      "|  98005|  168|\n",
      "|  98031|  274|\n",
      "|  98010|  100|\n",
      "|  98117|  553|\n",
      "|  98072|  273|\n",
      "|  98004|  317|\n",
      "|  98030|  256|\n",
      "|  98065|  310|\n",
      "|  98155|  446|\n",
      "|  98178|  262|\n",
      "|  98103|  602|\n",
      "+-------+-----+\n",
      "only showing top 20 rows\n",
      "\n"
     ]
    }
   ],
   "source": [
    "# Obtenemos el conteo de casas por zipcode\n",
    "df.groupBy(\"zipcode\").count().show()"
   ]
  },
  {
   "cell_type": "code",
   "execution_count": 30,
   "metadata": {},
   "outputs": [
    {
     "data": {
      "text/plain": [
       "'98103'"
      ]
     },
     "execution_count": 30,
     "metadata": {},
     "output_type": "execute_result"
    }
   ],
   "source": [
    "# Zipcode con mayor número de casas\n",
    "mayor_casa_zipcode = df.groupBy(\"zipcode\").count().orderBy(F1.desc(\"count\")).first()[\"zipcode\"]\n",
    "mayor_casa_zipcode"
   ]
  },
  {
   "cell_type": "code",
   "execution_count": 41,
   "metadata": {},
   "outputs": [],
   "source": [
    "# Se hace el filtro con el mayoy zipcode\n",
    "filtro_df = df.filter(F1.col(\"zipcode\") == mayor_casa_zipcode)"
   ]
  },
  {
   "cell_type": "code",
   "execution_count": 35,
   "metadata": {},
   "outputs": [
    {
     "name": "stdout",
     "output_type": "stream",
     "text": [
      "+-------+-----------------+-----------------+\n",
      "|Zipcode|  Precio promedio|        Tamaño m2|\n",
      "+-------+-----------------+-----------------+\n",
      "|  98103|584919.2109634551|153.3671119601329|\n",
      "+-------+-----------------+-----------------+\n",
      "\n"
     ]
    }
   ],
   "source": [
    "# Para el zipcode con mayor número de casas, calcular el promedio de precio, y tamaño en m2\n",
    "averages = filtro_df.agg(\n",
    "    F1.first(\"zipcode\").alias(\"Zipcode\"),\n",
    "    F1.avg(\"price\").alias(\"Precio promedio\"),\n",
    "    (F1.avg(\"sqft_living\") * 0.092903).alias(\"Tamaño m2\")\n",
    ")\n",
    "averages.show()"
   ]
  },
  {
   "cell_type": "code",
   "execution_count": 40,
   "metadata": {},
   "outputs": [
    {
     "name": "stdout",
     "output_type": "stream",
     "text": [
      "+-------+--------+---------+------------------+\n",
      "|zipcode|bedrooms|bathrooms|        avg(price)|\n",
      "+-------+--------+---------+------------------+\n",
      "|  98118|       4|     1.75|          417600.0|\n",
      "|  98040|       5|      3.0|         1229800.0|\n",
      "|  98053|       2|     1.75|         499701.75|\n",
      "|  98040|       5|      2.5|         1010500.0|\n",
      "|  98118|       6|      3.5|          680000.0|\n",
      "|  98108|       4|     1.75|          340325.0|\n",
      "|  98168|       5|      1.5|          246500.0|\n",
      "|  98028|       5|      2.5|          510250.0|\n",
      "|  98118|       0|      1.0|          228000.0|\n",
      "|  98117|       3|      1.5|          560200.0|\n",
      "|  98075|       4|      3.5| 926040.2083333334|\n",
      "|  98006|       3|      2.0| 548181.8181818182|\n",
      "|  98058|       4|      5.5|         1500000.0|\n",
      "|  98074|       5|      4.5|1133666.6666666667|\n",
      "|  98072|       3|      1.5| 397774.3333333333|\n",
      "|  98102|       2|      2.5|          683375.0|\n",
      "|  98126|       5|     2.25|          600000.0|\n",
      "|  98106|       4|      3.0|          331000.0|\n",
      "|  98030|       3|     2.75| 296666.6666666667|\n",
      "|  98112|       3|      3.0|         1722500.0|\n",
      "+-------+--------+---------+------------------+\n",
      "only showing top 20 rows\n",
      "\n"
     ]
    }
   ],
   "source": [
    "# Agrupamiento en Spark, por número de habitaciones y baños, del precio.\n",
    "df.groupBy([\"zipcode\", \"bedrooms\", \"bathrooms\"]).avg(\"price\").show()"
   ]
  }
 ],
 "metadata": {
  "kernelspec": {
   "display_name": "base",
   "language": "python",
   "name": "python3"
  },
  "language_info": {
   "codemirror_mode": {
    "name": "ipython",
    "version": 3
   },
   "file_extension": ".py",
   "mimetype": "text/x-python",
   "name": "python",
   "nbconvert_exporter": "python",
   "pygments_lexer": "ipython3",
   "version": "3.11.7"
  }
 },
 "nbformat": 4,
 "nbformat_minor": 2
}
