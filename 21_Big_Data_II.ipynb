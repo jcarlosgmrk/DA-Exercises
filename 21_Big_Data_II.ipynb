{
 "cells": [
  {
   "cell_type": "code",
   "execution_count": 1,
   "metadata": {},
   "outputs": [],
   "source": [
    "from pyspark.sql import SparkSession, Row\n",
    "\n",
    "from pyspark.sql.types import MapType, StringType\n",
    "from pyspark.sql.functions import col\n",
    "from pyspark.sql.types import StructType, StructField, StringType"
   ]
  },
  {
   "cell_type": "code",
   "execution_count": 2,
   "metadata": {},
   "outputs": [],
   "source": [
    "# Configuración de plataforma Spark\n",
    "spark = SparkSession\\\n",
    "    .builder\\\n",
    "    .appName(\"PythonPi\")\\\n",
    "    .getOrCreate()"
   ]
  },
  {
   "cell_type": "code",
   "execution_count": 3,
   "metadata": {},
   "outputs": [],
   "source": [
    "# Importación de datos de Housing a una estructura Spark\n",
    "path_archivo = r'C:\\Users\\Bodok\\Downloads\\EBAC curso\\Modulo 50 - Big Data II/vgsales.csv'\n",
    "\n",
    "df = spark.read.csv(path_archivo, header = True)"
   ]
  },
  {
   "cell_type": "code",
   "execution_count": 4,
   "metadata": {},
   "outputs": [
    {
     "name": "stdout",
     "output_type": "stream",
     "text": [
      "+--------------------+-------+-----------+\n",
      "|           Publisher|TotalNA|TotalGlobal|\n",
      "+--------------------+-------+-----------+\n",
      "|            Nintendo| 816.87|    1786.56|\n",
      "|     Electronic Arts| 595.07|    1110.32|\n",
      "|          Activision|  429.7|     727.46|\n",
      "|Sony Computer Ent...| 265.22|      607.5|\n",
      "|             Ubisoft| 253.43|     474.72|\n",
      "|Take-Two Interactive| 220.49|     399.54|\n",
      "|                 THQ| 208.77|     340.77|\n",
      "|Konami Digital En...|  92.16|     283.64|\n",
      "|                Sega|  109.4|     272.99|\n",
      "|  Namco Bandai Games|  69.52|     254.09|\n",
      "|Microsoft Game St...| 155.35|     245.79|\n",
      "|              Capcom|  78.59|     200.89|\n",
      "|               Atari| 110.04|     157.22|\n",
      "|Warner Bros. Inte...|  81.18|     153.89|\n",
      "|         Square Enix|  48.65|     145.18|\n",
      "|Disney Interactiv...|  71.34|     119.96|\n",
      "|   Eidos Interactive|  49.19|      98.98|\n",
      "|           LucasArts|  49.97|      87.34|\n",
      "|  Bethesda Softworks|  39.72|      82.14|\n",
      "|        Midway Games|  45.46|      69.85|\n",
      "+--------------------+-------+-----------+\n",
      "only showing top 20 rows\n",
      "\n"
     ]
    }
   ],
   "source": [
    "# Generación de Comandos SQL usando spark.sql\n",
    "df.createOrReplaceGlobalTempView(\"VGSALES\")\n",
    "sql_str = \"select Publisher, round(sum(NA_Sales),2) as TotalNA, round(sum(Global_Sales),2) as TotalGlobal from global_temp.VGSALES group by Publisher order by 3 desc\"\n",
    "spark.sql(sql_str).show()"
   ]
  },
  {
   "cell_type": "code",
   "execution_count": 5,
   "metadata": {},
   "outputs": [
    {
     "name": "stdout",
     "output_type": "stream",
     "text": [
      "+---------------------------+-------+-----------+\n",
      "|                  Publisher|TotalNA|TotalGlobal|\n",
      "+---------------------------+-------+-----------+\n",
      "|                   Nintendo| 816.87|    1786.56|\n",
      "|            Electronic Arts| 595.07|    1110.32|\n",
      "|                 Activision|  429.7|     727.46|\n",
      "|Sony Computer Entertainment| 265.22|      607.5|\n",
      "|                    Ubisoft| 253.43|     474.72|\n",
      "+---------------------------+-------+-----------+\n",
      "only showing top 5 rows\n",
      "\n"
     ]
    }
   ],
   "source": [
    "# Muestra las primeras 5 filas, con un máximo de 40 caracteres por columna\n",
    "spark.sql(sql_str).show(5,40)"
   ]
  },
  {
   "cell_type": "code",
   "execution_count": 6,
   "metadata": {},
   "outputs": [
    {
     "name": "stdout",
     "output_type": "stream",
     "text": [
      "-RECORD 0----------------------------------\n",
      " Publisher   | Nintendo                    \n",
      " TotalNA     | 816.87                      \n",
      " TotalGlobal | 1786.56                     \n",
      "-RECORD 1----------------------------------\n",
      " Publisher   | Electronic Arts             \n",
      " TotalNA     | 595.07                      \n",
      " TotalGlobal | 1110.32                     \n",
      "-RECORD 2----------------------------------\n",
      " Publisher   | Activision                  \n",
      " TotalNA     | 429.7                       \n",
      " TotalGlobal | 727.46                      \n",
      "-RECORD 3----------------------------------\n",
      " Publisher   | Sony Computer Entertainment \n",
      " TotalNA     | 265.22                      \n",
      " TotalGlobal | 607.5                       \n",
      "-RECORD 4----------------------------------\n",
      " Publisher   | Ubisoft                     \n",
      " TotalNA     | 253.43                      \n",
      " TotalGlobal | 474.72                      \n",
      "only showing top 5 rows\n",
      "\n"
     ]
    }
   ],
   "source": [
    "# Muestra los datos verticalmente, como tarjetas\n",
    "spark.sql(sql_str).show(5,40,True)"
   ]
  },
  {
   "cell_type": "code",
   "execution_count": 7,
   "metadata": {},
   "outputs": [
    {
     "name": "stdout",
     "output_type": "stream",
     "text": [
      "== Physical Plan ==\n",
      "AdaptiveSparkPlan isFinalPlan=false\n",
      "+- Sort [TotalGlobal#133 DESC NULLS LAST], true, 0\n",
      "   +- Exchange rangepartitioning(TotalGlobal#133 DESC NULLS LAST, 200), ENSURE_REQUIREMENTS, [plan_id=175]\n",
      "      +- HashAggregate(keys=[Publisher#22], functions=[sum(cast(NA_Sales#23 as double)), sum(cast(Global_Sales#27 as double))])\n",
      "         +- Exchange hashpartitioning(Publisher#22, 200), ENSURE_REQUIREMENTS, [plan_id=172]\n",
      "            +- HashAggregate(keys=[Publisher#22], functions=[partial_sum(cast(NA_Sales#23 as double)), partial_sum(cast(Global_Sales#27 as double))])\n",
      "               +- FileScan csv [Publisher#22,NA_Sales#23,Global_Sales#27] Batched: false, DataFilters: [], Format: CSV, Location: InMemoryFileIndex(1 paths)[file:/C:/Users/Bodok/Downloads/EBAC curso/Modulo 50 - Big Data II/vgsa..., PartitionFilters: [], PushedFilters: [], ReadSchema: struct<Publisher:string,NA_Sales:string,Global_Sales:string>\n",
      "\n",
      "\n"
     ]
    }
   ],
   "source": [
    "# Plan de ejecución con explain\n",
    "spark.sql(sql_str).explain()"
   ]
  },
  {
   "cell_type": "code",
   "execution_count": 8,
   "metadata": {},
   "outputs": [
    {
     "data": {
      "text/plain": [
       "['Publisher', 'TotalNA', 'TotalGlobal']"
      ]
     },
     "execution_count": 8,
     "metadata": {},
     "output_type": "execute_result"
    }
   ],
   "source": [
    "# Listado de columnas\n",
    "spark.sql(sql_str).columns"
   ]
  },
  {
   "cell_type": "code",
   "execution_count": 9,
   "metadata": {},
   "outputs": [
    {
     "data": {
      "text/plain": [
       "579"
      ]
     },
     "execution_count": 9,
     "metadata": {},
     "output_type": "execute_result"
    }
   ],
   "source": [
    "# Cuenta los registros\n",
    "spark.sql(sql_str).count()"
   ]
  },
  {
   "cell_type": "markdown",
   "metadata": {},
   "source": [
    "## Partición de datos"
   ]
  },
  {
   "cell_type": "code",
   "execution_count": 10,
   "metadata": {},
   "outputs": [
    {
     "name": "stdout",
     "output_type": "stream",
     "text": [
      "root\n",
      " |-- Rank: string (nullable = true)\n",
      " |-- Name: string (nullable = true)\n",
      " |-- Platform: string (nullable = true)\n",
      " |-- Year: string (nullable = true)\n",
      " |-- Genre: string (nullable = true)\n",
      " |-- Publisher: string (nullable = true)\n",
      " |-- NA_Sales: string (nullable = true)\n",
      " |-- EU_Sales: string (nullable = true)\n",
      " |-- JP_Sales: string (nullable = true)\n",
      " |-- Other_Sales: string (nullable = true)\n",
      " |-- Global_Sales: string (nullable = true)\n",
      "\n"
     ]
    }
   ],
   "source": [
    "# Implementación de PartitionBy\n",
    "spark = SparkSession.builder.appName('Partitionby() PySpark').getOrCreate()\n",
    "\n",
    "# Lee en el dataframe el archivo vgsales\n",
    "dataframe = spark.read.option(\"header\",True).csv( r'C:\\Users\\Bodok\\Downloads\\partition/vgsales.csv')\n",
    "\n",
    "# Imprime el esquema del archivo\n",
    "dataframe.printSchema()"
   ]
  },
  {
   "cell_type": "code",
   "execution_count": null,
   "metadata": {},
   "outputs": [],
   "source": [
    "#Usando partitionBy con la columna Platform generará un directorio con cada plataforma\n",
    "dataframe.write.option(\"header\", True).partitionBy(\"Platform\").mode(\"overwrite\").csv(\"C:/Users/Bodok/Downloads/partition/platform\")\n",
    "#r'C:\\Users\\Bodok\\Downloads\\EBAC curso\\Modulo 50 - Big Data II\\partition\\platform')"
   ]
  },
  {
   "cell_type": "code",
   "execution_count": 18,
   "metadata": {},
   "outputs": [
    {
     "name": "stdout",
     "output_type": "stream",
     "text": [
      "3.5.2\n"
     ]
    }
   ],
   "source": [
    "print(spark.version)"
   ]
  },
  {
   "cell_type": "markdown",
   "metadata": {},
   "source": [
    "## PyArrow"
   ]
  },
  {
   "cell_type": "code",
   "execution_count": 19,
   "metadata": {},
   "outputs": [],
   "source": [
    "from pyarrow import csv\n",
    "import pyarrow as pa"
   ]
  },
  {
   "cell_type": "code",
   "execution_count": 20,
   "metadata": {},
   "outputs": [],
   "source": [
    "archivo = r'C:\\Users\\Bodok\\Downloads\\partition/vgsales.csv'\n",
    "tab_vgsales = csv.read_csv(archivo)"
   ]
  },
  {
   "cell_type": "code",
   "execution_count": 21,
   "metadata": {},
   "outputs": [
    {
     "data": {
      "text/plain": [
       "pyarrow.Table\n",
       "Rank: int64\n",
       "Name: string\n",
       "Platform: string\n",
       "Year: int64\n",
       "Genre: string\n",
       "Publisher: string\n",
       "NA_Sales: double\n",
       "EU_Sales: double\n",
       "JP_Sales: double\n",
       "Other_Sales: double\n",
       "Global_Sales: double\n",
       "----\n",
       "Rank: [[1,2,3,4,5,...,12815,12816,12817,12818,12819],[12820,12821,12822,12823,12824,...,16596,16597,16598,16599,16600]]\n",
       "Name: [[\"Wii Sports\",\"Super Mario Bros.\",\"Mario Kart Wii\",\"Wii Sports Resort\",\"Pokemon Red/Pokemon Blue\",...,\"SeaBlade\",\"Jikkyou Powerful Pro Yakyuu DreamCast Edition\",\"Carmen Sandiego: The Secret of the Stolen Drums\",\"Tokyo Mono Harashi: Karasu no Mori Gakuen Kitan\",\"Activision Hits: Remixed\"],[\"Death Jr. II: Root of Evil\",\"Hail to the Chimp\",\"MotoGP 4 - Official Game of MotoGP\",\"Legend of Kay\",\"Kyoukai Senjou no Horizon Portable\",...,\"Woody Woodpecker in Crazy Castle 5\",\"Men in Black II: Alien Escape\",\"SCORE International Baja 1000: The Official Game\",\"Know How 2\",\"Spirits & Spells\"]]\n",
       "Platform: [[\"Wii\",\"NES\",\"Wii\",\"Wii\",\"GB\",...,\"XB\",\"DC\",\"PS2\",\"PSP\",\"PSP\"],[\"PSP\",\"X360\",\"PS2\",\"WiiU\",\"PSP\",...,\"GBA\",\"GC\",\"PS2\",\"DS\",\"GBA\"]]\n",
       "Year: [[2006,1985,2008,2009,1996,...,2002,2000,2004,2010,2006],[2006,2008,2005,2015,2013,...,2002,2003,2008,2010,2003]]\n",
       "Genre: [[\"Sports\",\"Platform\",\"Racing\",\"Sports\",\"Role-Playing\",...,\"Shooter\",\"Sports\",\"Action\",\"Role-Playing\",\"Misc\"],[\"Platform\",\"Misc\",\"Racing\",\"Action\",\"Adventure\",...,\"Platform\",\"Shooter\",\"Racing\",\"Puzzle\",\"Platform\"]]\n",
       "Publisher: [[\"Nintendo\",\"Nintendo\",\"Nintendo\",\"Nintendo\",\"Nintendo\",...,\"TDK Mediactive\",\"Konami Digital Entertainment\",\"BAM! Entertainment\",\"Atlus\",\"Activision\"],[\"Konami Digital Entertainment\",\"Gamecock\",\"Sony Computer Entertainment\",\"Nordic Games\",\"Kadokawa Shoten\",...,\"Kemco\",\"Infogrames\",\"Activision\",\"7G//AMES\",\"Wanadoo\"]]\n",
       "NA_Sales: [[41.49,29.08,15.85,15.75,11.27,...,0.04,0,0.03,0,0.05],[0.05,0.05,0.03,0.03,0,...,0.01,0.01,0,0,0.01]]\n",
       "EU_Sales: [[29.02,3.58,12.88,11.01,8.89,...,0.01,0,0.02,0,0],[0,0,0.02,0.02,0,...,0,0,0,0.01,0]]\n",
       "JP_Sales: [[3.77,6.81,3.79,3.28,10.22,...,0,0.06,0,0.06,0],[0,0,0,0,0.05,...,0,0,0,0,0]]\n",
       "Other_Sales: [[8.46,0.77,3.31,2.96,1,...,0,0,0.01,0,0],[0,0,0.01,0,0,...,0,0,0,0,0]]\n",
       "..."
      ]
     },
     "execution_count": 21,
     "metadata": {},
     "output_type": "execute_result"
    }
   ],
   "source": [
    "# Estructura de vgsales visto desde PyArrow\n",
    "tab_vgsales"
   ]
  },
  {
   "cell_type": "code",
   "execution_count": 22,
   "metadata": {},
   "outputs": [
    {
     "data": {
      "text/plain": [
       "16598"
      ]
     },
     "execution_count": 22,
     "metadata": {},
     "output_type": "execute_result"
    }
   ],
   "source": [
    "# Largo de tab_vgsales\n",
    "len(tab_vgsales)"
   ]
  },
  {
   "cell_type": "code",
   "execution_count": 23,
   "metadata": {},
   "outputs": [
    {
     "data": {
      "text/plain": [
       "['Rank',\n",
       " 'Name',\n",
       " 'Platform',\n",
       " 'Year',\n",
       " 'Genre',\n",
       " 'Publisher',\n",
       " 'NA_Sales',\n",
       " 'EU_Sales',\n",
       " 'JP_Sales',\n",
       " 'Other_Sales',\n",
       " 'Global_Sales']"
      ]
     },
     "execution_count": 23,
     "metadata": {},
     "output_type": "execute_result"
    }
   ],
   "source": [
    "# Lista las columnas\n",
    "tab_vgsales.column_names"
   ]
  },
  {
   "cell_type": "code",
   "execution_count": 24,
   "metadata": {},
   "outputs": [
    {
     "data": {
      "text/plain": [
       "Rank: int64\n",
       "Name: string\n",
       "Platform: string\n",
       "Year: int64\n",
       "Genre: string\n",
       "Publisher: string\n",
       "NA_Sales: double\n",
       "EU_Sales: double\n",
       "JP_Sales: double\n",
       "Other_Sales: double\n",
       "Global_Sales: double"
      ]
     },
     "execution_count": 24,
     "metadata": {},
     "output_type": "execute_result"
    }
   ],
   "source": [
    "# Publica esquema\n",
    "tab_vgsales.schema"
   ]
  },
  {
   "cell_type": "code",
   "execution_count": 25,
   "metadata": {},
   "outputs": [
    {
     "data": {
      "text/plain": [
       "11"
      ]
     },
     "execution_count": 25,
     "metadata": {},
     "output_type": "execute_result"
    }
   ],
   "source": [
    "# Más funciones para descripción del dataset\n",
    "tab_vgsales.num_columns"
   ]
  },
  {
   "cell_type": "code",
   "execution_count": 26,
   "metadata": {},
   "outputs": [
    {
     "data": {
      "text/plain": [
       "16598"
      ]
     },
     "execution_count": 26,
     "metadata": {},
     "output_type": "execute_result"
    }
   ],
   "source": [
    "# Más funciones para descripción del dataset\n",
    "tab_vgsales.num_rows"
   ]
  },
  {
   "cell_type": "code",
   "execution_count": 27,
   "metadata": {},
   "outputs": [],
   "source": [
    "# Pasa la estrucutra a Pandas\n",
    "df = tab_vgsales.to_pandas()"
   ]
  },
  {
   "cell_type": "code",
   "execution_count": 28,
   "metadata": {},
   "outputs": [
    {
     "data": {
      "text/html": [
       "<div>\n",
       "<style scoped>\n",
       "    .dataframe tbody tr th:only-of-type {\n",
       "        vertical-align: middle;\n",
       "    }\n",
       "\n",
       "    .dataframe tbody tr th {\n",
       "        vertical-align: top;\n",
       "    }\n",
       "\n",
       "    .dataframe thead th {\n",
       "        text-align: right;\n",
       "    }\n",
       "</style>\n",
       "<table border=\"1\" class=\"dataframe\">\n",
       "  <thead>\n",
       "    <tr style=\"text-align: right;\">\n",
       "      <th></th>\n",
       "      <th>Rank</th>\n",
       "      <th>Name</th>\n",
       "      <th>Platform</th>\n",
       "      <th>Year</th>\n",
       "      <th>Genre</th>\n",
       "      <th>Publisher</th>\n",
       "      <th>NA_Sales</th>\n",
       "      <th>EU_Sales</th>\n",
       "      <th>JP_Sales</th>\n",
       "      <th>Other_Sales</th>\n",
       "      <th>Global_Sales</th>\n",
       "    </tr>\n",
       "  </thead>\n",
       "  <tbody>\n",
       "    <tr>\n",
       "      <th>0</th>\n",
       "      <td>1</td>\n",
       "      <td>Wii Sports</td>\n",
       "      <td>Wii</td>\n",
       "      <td>2006.0</td>\n",
       "      <td>Sports</td>\n",
       "      <td>Nintendo</td>\n",
       "      <td>41.49</td>\n",
       "      <td>29.02</td>\n",
       "      <td>3.77</td>\n",
       "      <td>8.46</td>\n",
       "      <td>82.74</td>\n",
       "    </tr>\n",
       "    <tr>\n",
       "      <th>1</th>\n",
       "      <td>2</td>\n",
       "      <td>Super Mario Bros.</td>\n",
       "      <td>NES</td>\n",
       "      <td>1985.0</td>\n",
       "      <td>Platform</td>\n",
       "      <td>Nintendo</td>\n",
       "      <td>29.08</td>\n",
       "      <td>3.58</td>\n",
       "      <td>6.81</td>\n",
       "      <td>0.77</td>\n",
       "      <td>40.24</td>\n",
       "    </tr>\n",
       "    <tr>\n",
       "      <th>2</th>\n",
       "      <td>3</td>\n",
       "      <td>Mario Kart Wii</td>\n",
       "      <td>Wii</td>\n",
       "      <td>2008.0</td>\n",
       "      <td>Racing</td>\n",
       "      <td>Nintendo</td>\n",
       "      <td>15.85</td>\n",
       "      <td>12.88</td>\n",
       "      <td>3.79</td>\n",
       "      <td>3.31</td>\n",
       "      <td>35.82</td>\n",
       "    </tr>\n",
       "    <tr>\n",
       "      <th>3</th>\n",
       "      <td>4</td>\n",
       "      <td>Wii Sports Resort</td>\n",
       "      <td>Wii</td>\n",
       "      <td>2009.0</td>\n",
       "      <td>Sports</td>\n",
       "      <td>Nintendo</td>\n",
       "      <td>15.75</td>\n",
       "      <td>11.01</td>\n",
       "      <td>3.28</td>\n",
       "      <td>2.96</td>\n",
       "      <td>33.00</td>\n",
       "    </tr>\n",
       "    <tr>\n",
       "      <th>4</th>\n",
       "      <td>5</td>\n",
       "      <td>Pokemon Red/Pokemon Blue</td>\n",
       "      <td>GB</td>\n",
       "      <td>1996.0</td>\n",
       "      <td>Role-Playing</td>\n",
       "      <td>Nintendo</td>\n",
       "      <td>11.27</td>\n",
       "      <td>8.89</td>\n",
       "      <td>10.22</td>\n",
       "      <td>1.00</td>\n",
       "      <td>31.37</td>\n",
       "    </tr>\n",
       "  </tbody>\n",
       "</table>\n",
       "</div>"
      ],
      "text/plain": [
       "   Rank                      Name Platform    Year         Genre Publisher  \\\n",
       "0     1                Wii Sports      Wii  2006.0        Sports  Nintendo   \n",
       "1     2         Super Mario Bros.      NES  1985.0      Platform  Nintendo   \n",
       "2     3            Mario Kart Wii      Wii  2008.0        Racing  Nintendo   \n",
       "3     4         Wii Sports Resort      Wii  2009.0        Sports  Nintendo   \n",
       "4     5  Pokemon Red/Pokemon Blue       GB  1996.0  Role-Playing  Nintendo   \n",
       "\n",
       "   NA_Sales  EU_Sales  JP_Sales  Other_Sales  Global_Sales  \n",
       "0     41.49     29.02      3.77         8.46         82.74  \n",
       "1     29.08      3.58      6.81         0.77         40.24  \n",
       "2     15.85     12.88      3.79         3.31         35.82  \n",
       "3     15.75     11.01      3.28         2.96         33.00  \n",
       "4     11.27      8.89     10.22         1.00         31.37  "
      ]
     },
     "execution_count": 28,
     "metadata": {},
     "output_type": "execute_result"
    }
   ],
   "source": [
    "df.head()"
   ]
  },
  {
   "cell_type": "code",
   "execution_count": 29,
   "metadata": {},
   "outputs": [
    {
     "data": {
      "text/plain": [
       "pyarrow.lib.Table"
      ]
     },
     "execution_count": 29,
     "metadata": {},
     "output_type": "execute_result"
    }
   ],
   "source": [
    "type(tab_vgsales)"
   ]
  },
  {
   "cell_type": "code",
   "execution_count": 30,
   "metadata": {},
   "outputs": [],
   "source": [
    "# Agrupa las tablas por Género\n",
    "tab_genre = tab_vgsales.group_by(\"Genre\").aggregate([(\"NA_Sales\", \"sum\")])"
   ]
  },
  {
   "cell_type": "code",
   "execution_count": 31,
   "metadata": {},
   "outputs": [],
   "source": [
    "df1 = tab_genre.to_pandas()"
   ]
  },
  {
   "cell_type": "code",
   "execution_count": 32,
   "metadata": {},
   "outputs": [
    {
     "data": {
      "text/html": [
       "<div>\n",
       "<style scoped>\n",
       "    .dataframe tbody tr th:only-of-type {\n",
       "        vertical-align: middle;\n",
       "    }\n",
       "\n",
       "    .dataframe tbody tr th {\n",
       "        vertical-align: top;\n",
       "    }\n",
       "\n",
       "    .dataframe thead th {\n",
       "        text-align: right;\n",
       "    }\n",
       "</style>\n",
       "<table border=\"1\" class=\"dataframe\">\n",
       "  <thead>\n",
       "    <tr style=\"text-align: right;\">\n",
       "      <th></th>\n",
       "      <th>Genre</th>\n",
       "      <th>NA_Sales_sum</th>\n",
       "    </tr>\n",
       "  </thead>\n",
       "  <tbody>\n",
       "    <tr>\n",
       "      <th>0</th>\n",
       "      <td>Sports</td>\n",
       "      <td>683.35</td>\n",
       "    </tr>\n",
       "    <tr>\n",
       "      <th>1</th>\n",
       "      <td>Platform</td>\n",
       "      <td>447.05</td>\n",
       "    </tr>\n",
       "    <tr>\n",
       "      <th>2</th>\n",
       "      <td>Racing</td>\n",
       "      <td>359.42</td>\n",
       "    </tr>\n",
       "    <tr>\n",
       "      <th>3</th>\n",
       "      <td>Role-Playing</td>\n",
       "      <td>327.28</td>\n",
       "    </tr>\n",
       "    <tr>\n",
       "      <th>4</th>\n",
       "      <td>Puzzle</td>\n",
       "      <td>123.78</td>\n",
       "    </tr>\n",
       "  </tbody>\n",
       "</table>\n",
       "</div>"
      ],
      "text/plain": [
       "          Genre  NA_Sales_sum\n",
       "0        Sports        683.35\n",
       "1      Platform        447.05\n",
       "2        Racing        359.42\n",
       "3  Role-Playing        327.28\n",
       "4        Puzzle        123.78"
      ]
     },
     "execution_count": 32,
     "metadata": {},
     "output_type": "execute_result"
    }
   ],
   "source": [
    "df1.head()"
   ]
  },
  {
   "cell_type": "code",
   "execution_count": 33,
   "metadata": {},
   "outputs": [
    {
     "data": {
      "text/html": [
       "<div>\n",
       "<style scoped>\n",
       "    .dataframe tbody tr th:only-of-type {\n",
       "        vertical-align: middle;\n",
       "    }\n",
       "\n",
       "    .dataframe tbody tr th {\n",
       "        vertical-align: top;\n",
       "    }\n",
       "\n",
       "    .dataframe thead th {\n",
       "        text-align: right;\n",
       "    }\n",
       "</style>\n",
       "<table border=\"1\" class=\"dataframe\">\n",
       "  <thead>\n",
       "    <tr style=\"text-align: right;\">\n",
       "      <th></th>\n",
       "      <th>Rank</th>\n",
       "      <th>Name</th>\n",
       "      <th>Platform</th>\n",
       "      <th>Year</th>\n",
       "      <th>Genre</th>\n",
       "      <th>Publisher</th>\n",
       "      <th>NA_Sales</th>\n",
       "      <th>EU_Sales</th>\n",
       "      <th>JP_Sales</th>\n",
       "      <th>Other_Sales</th>\n",
       "      <th>Global_Sales</th>\n",
       "      <th>Test</th>\n",
       "    </tr>\n",
       "  </thead>\n",
       "  <tbody>\n",
       "    <tr>\n",
       "      <th>0</th>\n",
       "      <td>1</td>\n",
       "      <td>Wii Sports</td>\n",
       "      <td>Wii</td>\n",
       "      <td>2006.0</td>\n",
       "      <td>Sports</td>\n",
       "      <td>Nintendo</td>\n",
       "      <td>41.49</td>\n",
       "      <td>29.02</td>\n",
       "      <td>3.77</td>\n",
       "      <td>8.46</td>\n",
       "      <td>82.74</td>\n",
       "      <td>0</td>\n",
       "    </tr>\n",
       "    <tr>\n",
       "      <th>1</th>\n",
       "      <td>2</td>\n",
       "      <td>Super Mario Bros.</td>\n",
       "      <td>NES</td>\n",
       "      <td>1985.0</td>\n",
       "      <td>Platform</td>\n",
       "      <td>Nintendo</td>\n",
       "      <td>29.08</td>\n",
       "      <td>3.58</td>\n",
       "      <td>6.81</td>\n",
       "      <td>0.77</td>\n",
       "      <td>40.24</td>\n",
       "      <td>0</td>\n",
       "    </tr>\n",
       "    <tr>\n",
       "      <th>2</th>\n",
       "      <td>3</td>\n",
       "      <td>Mario Kart Wii</td>\n",
       "      <td>Wii</td>\n",
       "      <td>2008.0</td>\n",
       "      <td>Racing</td>\n",
       "      <td>Nintendo</td>\n",
       "      <td>15.85</td>\n",
       "      <td>12.88</td>\n",
       "      <td>3.79</td>\n",
       "      <td>3.31</td>\n",
       "      <td>35.82</td>\n",
       "      <td>0</td>\n",
       "    </tr>\n",
       "    <tr>\n",
       "      <th>3</th>\n",
       "      <td>4</td>\n",
       "      <td>Wii Sports Resort</td>\n",
       "      <td>Wii</td>\n",
       "      <td>2009.0</td>\n",
       "      <td>Sports</td>\n",
       "      <td>Nintendo</td>\n",
       "      <td>15.75</td>\n",
       "      <td>11.01</td>\n",
       "      <td>3.28</td>\n",
       "      <td>2.96</td>\n",
       "      <td>33.00</td>\n",
       "      <td>0</td>\n",
       "    </tr>\n",
       "    <tr>\n",
       "      <th>4</th>\n",
       "      <td>5</td>\n",
       "      <td>Pokemon Red/Pokemon Blue</td>\n",
       "      <td>GB</td>\n",
       "      <td>1996.0</td>\n",
       "      <td>Role-Playing</td>\n",
       "      <td>Nintendo</td>\n",
       "      <td>11.27</td>\n",
       "      <td>8.89</td>\n",
       "      <td>10.22</td>\n",
       "      <td>1.00</td>\n",
       "      <td>31.37</td>\n",
       "      <td>0</td>\n",
       "    </tr>\n",
       "  </tbody>\n",
       "</table>\n",
       "</div>"
      ],
      "text/plain": [
       "   Rank                      Name Platform    Year         Genre Publisher  \\\n",
       "0     1                Wii Sports      Wii  2006.0        Sports  Nintendo   \n",
       "1     2         Super Mario Bros.      NES  1985.0      Platform  Nintendo   \n",
       "2     3            Mario Kart Wii      Wii  2008.0        Racing  Nintendo   \n",
       "3     4         Wii Sports Resort      Wii  2009.0        Sports  Nintendo   \n",
       "4     5  Pokemon Red/Pokemon Blue       GB  1996.0  Role-Playing  Nintendo   \n",
       "\n",
       "   NA_Sales  EU_Sales  JP_Sales  Other_Sales  Global_Sales Test  \n",
       "0     41.49     29.02      3.77         8.46         82.74    0  \n",
       "1     29.08      3.58      6.81         0.77         40.24    0  \n",
       "2     15.85     12.88      3.79         3.31         35.82    0  \n",
       "3     15.75     11.01      3.28         2.96         33.00    0  \n",
       "4     11.27      8.89     10.22         1.00         31.37    0  "
      ]
     },
     "execution_count": 33,
     "metadata": {},
     "output_type": "execute_result"
    }
   ],
   "source": [
    "# Añade una columna con append_column\n",
    "tab2 = tab_vgsales.append_column(\"Test\", pa.array(['0'] * len(tab_vgsales), pa.string()))\n",
    "df2 = tab2.to_pandas()\n",
    "df2.head()"
   ]
  },
  {
   "cell_type": "markdown",
   "metadata": {},
   "source": [
    "## Uso de Parquet"
   ]
  },
  {
   "cell_type": "code",
   "execution_count": 34,
   "metadata": {},
   "outputs": [],
   "source": [
    "import pyarrow.parquet as pq\n",
    "import pandas as pd\n",
    "import pyarrow as pa\n",
    "\n",
    "df = pd.DataFrame({'lin1': [-20, 100, 200],\n",
    "                   'lin2': ['este', 'es un', 'ejemplo'],\n",
    "                   'l3': [False, True, True]},\n",
    "                   index = list('abc'))"
   ]
  },
  {
   "cell_type": "code",
   "execution_count": 35,
   "metadata": {},
   "outputs": [
    {
     "data": {
      "text/html": [
       "<div>\n",
       "<style scoped>\n",
       "    .dataframe tbody tr th:only-of-type {\n",
       "        vertical-align: middle;\n",
       "    }\n",
       "\n",
       "    .dataframe tbody tr th {\n",
       "        vertical-align: top;\n",
       "    }\n",
       "\n",
       "    .dataframe thead th {\n",
       "        text-align: right;\n",
       "    }\n",
       "</style>\n",
       "<table border=\"1\" class=\"dataframe\">\n",
       "  <thead>\n",
       "    <tr style=\"text-align: right;\">\n",
       "      <th></th>\n",
       "      <th>lin1</th>\n",
       "      <th>lin2</th>\n",
       "      <th>l3</th>\n",
       "    </tr>\n",
       "  </thead>\n",
       "  <tbody>\n",
       "    <tr>\n",
       "      <th>a</th>\n",
       "      <td>-20</td>\n",
       "      <td>este</td>\n",
       "      <td>False</td>\n",
       "    </tr>\n",
       "    <tr>\n",
       "      <th>b</th>\n",
       "      <td>100</td>\n",
       "      <td>es un</td>\n",
       "      <td>True</td>\n",
       "    </tr>\n",
       "    <tr>\n",
       "      <th>c</th>\n",
       "      <td>200</td>\n",
       "      <td>ejemplo</td>\n",
       "      <td>True</td>\n",
       "    </tr>\n",
       "  </tbody>\n",
       "</table>\n",
       "</div>"
      ],
      "text/plain": [
       "   lin1     lin2     l3\n",
       "a   -20     este  False\n",
       "b   100    es un   True\n",
       "c   200  ejemplo   True"
      ]
     },
     "execution_count": 35,
     "metadata": {},
     "output_type": "execute_result"
    }
   ],
   "source": [
    "df"
   ]
  },
  {
   "cell_type": "code",
   "execution_count": 36,
   "metadata": {},
   "outputs": [],
   "source": [
    "tab_example = pa.Table.from_pandas(df)\n",
    "pq.write_table(tab_example, r'C:\\Users\\Bodok\\Downloads\\EBAC curso\\Modulo 50 - Big Data II\\parquet/ejemplo.parquet')\n"
   ]
  },
  {
   "cell_type": "code",
   "execution_count": 37,
   "metadata": {},
   "outputs": [
    {
     "data": {
      "text/html": [
       "<div>\n",
       "<style scoped>\n",
       "    .dataframe tbody tr th:only-of-type {\n",
       "        vertical-align: middle;\n",
       "    }\n",
       "\n",
       "    .dataframe tbody tr th {\n",
       "        vertical-align: top;\n",
       "    }\n",
       "\n",
       "    .dataframe thead th {\n",
       "        text-align: right;\n",
       "    }\n",
       "</style>\n",
       "<table border=\"1\" class=\"dataframe\">\n",
       "  <thead>\n",
       "    <tr style=\"text-align: right;\">\n",
       "      <th></th>\n",
       "      <th>lin1</th>\n",
       "      <th>lin2</th>\n",
       "      <th>l3</th>\n",
       "    </tr>\n",
       "  </thead>\n",
       "  <tbody>\n",
       "    <tr>\n",
       "      <th>a</th>\n",
       "      <td>-20</td>\n",
       "      <td>este</td>\n",
       "      <td>False</td>\n",
       "    </tr>\n",
       "    <tr>\n",
       "      <th>b</th>\n",
       "      <td>100</td>\n",
       "      <td>es un</td>\n",
       "      <td>True</td>\n",
       "    </tr>\n",
       "    <tr>\n",
       "      <th>c</th>\n",
       "      <td>200</td>\n",
       "      <td>ejemplo</td>\n",
       "      <td>True</td>\n",
       "    </tr>\n",
       "  </tbody>\n",
       "</table>\n",
       "</div>"
      ],
      "text/plain": [
       "   lin1     lin2     l3\n",
       "a   -20     este  False\n",
       "b   100    es un   True\n",
       "c   200  ejemplo   True"
      ]
     },
     "execution_count": 37,
     "metadata": {},
     "output_type": "execute_result"
    }
   ],
   "source": [
    "tab_2 = pq.read_table(r'C:\\Users\\Bodok\\Downloads\\EBAC curso\\Modulo 50 - Big Data II\\parquet/ejemplo.parquet')\n",
    "tab_2.to_pandas()"
   ]
  },
  {
   "cell_type": "code",
   "execution_count": 38,
   "metadata": {},
   "outputs": [
    {
     "data": {
      "text/plain": [
       "pyarrow.Table\n",
       "lin1: int64\n",
       "lin2: string\n",
       "l3: bool\n",
       "__index_level_0__: string\n",
       "----\n",
       "lin1: [[-20,100,200]]\n",
       "lin2: [[\"este\",\"es un\",\"ejemplo\"]]\n",
       "l3: [[false,true,true]]\n",
       "__index_level_0__: [[\"a\",\"b\",\"c\"]]"
      ]
     },
     "execution_count": 38,
     "metadata": {},
     "output_type": "execute_result"
    }
   ],
   "source": [
    "tab_2"
   ]
  }
 ],
 "metadata": {
  "kernelspec": {
   "display_name": "base",
   "language": "python",
   "name": "python3"
  },
  "language_info": {
   "codemirror_mode": {
    "name": "ipython",
    "version": 3
   },
   "file_extension": ".py",
   "mimetype": "text/x-python",
   "name": "python",
   "nbconvert_exporter": "python",
   "pygments_lexer": "ipython3",
   "version": "3.11.7"
  }
 },
 "nbformat": 4,
 "nbformat_minor": 2
}
